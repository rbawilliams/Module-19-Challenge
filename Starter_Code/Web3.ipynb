{
 "cells": [
  {
   "cell_type": "code",
   "execution_count": 1,
   "id": "dbc9eacf-2e15-4096-9fa6-144f8087750f",
   "metadata": {},
   "outputs": [
    {
     "name": "stdout",
     "output_type": "stream",
     "text": [
      "Default Account: 0x58b810Ac07b62d168722d5C64fA7b0b8da9f42A5\n",
      "Balance (wei): 100000000000000000000\n",
      "Balance (ether): 100\n"
     ]
    }
   ],
   "source": [
    "from web3 import Web3\n",
    "\n",
    "# Connect to Ganache\n",
    "w3 = Web3(Web3.HTTPProvider('http://127.0.0.1:7545'))\n",
    "\n",
    "# Get the default account\n",
    "default_account = w3.eth.accounts[0]\n",
    "\n",
    "# Get the balance of the default account in ether\n",
    "balance_wei = w3.eth.get_balance(default_account)\n",
    "balance_eth = w3.fromWei(balance_wei, 'ether')\n",
    "\n",
    "print(f\"Default Account: {default_account}\")\n",
    "print(f\"Balance (wei): {balance_wei}\")\n",
    "print(f\"Balance (ether): {balance_eth}\")"
   ]
  },
  {
   "cell_type": "code",
   "execution_count": null,
   "id": "88981c38-ce98-4dcb-8eb2-0e76ecd5161a",
   "metadata": {},
   "outputs": [],
   "source": []
  }
 ],
 "metadata": {
  "kernelspec": {
   "display_name": "Python 3 (ipykernel)",
   "language": "python",
   "name": "python3"
  },
  "language_info": {
   "codemirror_mode": {
    "name": "ipython",
    "version": 3
   },
   "file_extension": ".py",
   "mimetype": "text/x-python",
   "name": "python",
   "nbconvert_exporter": "python",
   "pygments_lexer": "ipython3",
   "version": "3.9.12"
  }
 },
 "nbformat": 4,
 "nbformat_minor": 5
}
